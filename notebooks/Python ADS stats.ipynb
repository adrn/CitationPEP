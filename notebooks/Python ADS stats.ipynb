{
 "cells": [
  {
   "cell_type": "code",
   "execution_count": null,
   "metadata": {},
   "outputs": [],
   "source": [
    "import datetime\n",
    "import itertools\n",
    "import time\n",
    "\n",
    "import ads\n",
    "import matplotlib.pyplot as plt\n",
    "%matplotlib inline\n",
    "import numpy as np"
   ]
  },
  {
   "cell_type": "markdown",
   "metadata": {},
   "source": [
    "Python was created: 20 February 1991"
   ]
  },
  {
   "cell_type": "code",
   "execution_count": null,
   "metadata": {},
   "outputs": [],
   "source": [
    "q = 'full:\"python\"  pubdate:[{y1:d}-{m1:02d}-01 TO {y2:d}-{m2:02d}-01] database:\"astronomy\"'\n",
    "wait = 0.25 # seconds, to wait between queries"
   ]
  },
  {
   "cell_type": "code",
   "execution_count": null,
   "metadata": {},
   "outputs": [],
   "source": [
    "years = range(1991, 2018+1, 1)\n",
    "months = range(1, 12+1, 1)\n",
    "dates = [(y, m) for y, m in itertools.product(years, months) \n",
    "         if y < 2018 or (y == 2018 and m < 3)]\n",
    "\n",
    "print('{0} queries to ADS in total'.format(len(dates)))"
   ]
  },
  {
   "cell_type": "code",
   "execution_count": null,
   "metadata": {},
   "outputs": [],
   "source": [
    "datetimes = []\n",
    "counts = []\n",
    "for (y1, m1), (y2, m2) in zip(dates[:-1], dates[1:]):\n",
    "    if m1 == 1:\n",
    "        print(y1)\n",
    "        \n",
    "    search = ads.SearchQuery(q=q.format(y1=y1, y2=y2, m1=m1, m2=m2), \n",
    "                             rows=1000)\n",
    "    n = len(list(search))\n",
    "    \n",
    "    datetimes.append(datetime.date(y1, m1, 1))\n",
    "    counts.append(n)\n",
    "    \n",
    "    time.sleep(wait)"
   ]
  },
  {
   "cell_type": "code",
   "execution_count": null,
   "metadata": {},
   "outputs": [],
   "source": [
    "search.response.get_ratelimits()"
   ]
  },
  {
   "cell_type": "code",
   "execution_count": null,
   "metadata": {},
   "outputs": [],
   "source": [
    "from scipy.ndimage import gaussian_filter1d"
   ]
  },
  {
   "cell_type": "code",
   "execution_count": null,
   "metadata": {},
   "outputs": [],
   "source": [
    "dt = np.array(datetimes)"
   ]
  },
  {
   "cell_type": "code",
   "execution_count": null,
   "metadata": {},
   "outputs": [],
   "source": [
    "adass = [(1991, 11, 6), (1992, 11, 2), (1993, 10, 13), (1994, 9, 26), \n",
    "         (1995, 10, 22), (1996, 9, 22), (1997, 9, 14), (1998, 11, 1), (1999, 10, 3),\n",
    "         (2000, 11, 12), (2001, 9, 30), (2002, 10, 13), (2003, 10, 12),\n",
    "         (2004, 10, 24), (2005, 10, 2), (2006, 10, 15), (2007, 9, 23),\n",
    "         (2008, 11, 2), (2009, 10, 4), (2010, 11, 7), (2011, 11, 6),\n",
    "         (2012, 11, 4), (2013, 9, 29), (2014, 10, 5), (2015, 10, 25),\n",
    "         (2016, 10, 16), (2017, 10, 22)]\n",
    "\n",
    "spie = [(2012, 8, 1), (2014, 6, 1), (2016, 6, 1)]"
   ]
  },
  {
   "cell_type": "code",
   "execution_count": null,
   "metadata": {},
   "outputs": [],
   "source": [
    "fig, ax = plt.subplots(1, 1, figsize=(12, 6))\n",
    "# ax.plot(dt, gaussian_filter1d(counts, 2), drawstyle='steps', marker='')\n",
    "ax.plot(dt, counts, drawstyle='steps-pre', marker='', color='#333333')\n",
    "\n",
    "for i, stuff in enumerate(adass):\n",
    "    kw = dict()\n",
    "    if i == 0:\n",
    "        kw = dict(label='ADASS')\n",
    "    ax.axvline(datetime.date(*stuff), linestyle='-', marker='', \n",
    "               zorder=-100, color='tab:blue', alpha=0.35, **kw)\n",
    "    \n",
    "for i, stuff in enumerate(spie):\n",
    "    kw = dict()\n",
    "    if i == 0:\n",
    "        kw = dict(label='SPIE')\n",
    "    ax.axvline(datetime.date(*stuff), linestyle='-', marker='',\n",
    "               zorder=-100, color='tab:orange', alpha=0.35, **kw)\n",
    "\n",
    "ax.legend(loc='upper left', fontsize=18, framealpha=1)\n",
    "    \n",
    "ax.set_yscale('log')\n",
    "\n",
    "ax.xaxis.set_ticks([datetime.date(x, 1, 1) for x in range(1991, 2018+1, 2)]);\n",
    "ax.set_xlim(datetime.date(1991,1,1), \n",
    "            datetime.date(2018,3,1))\n",
    "\n",
    "ax.set_xlabel('time')\n",
    "ax.set_ylabel('Python mentions per month')\n",
    "ax.set_title('Source: ADS', fontsize=14)\n",
    "fig.set_facecolor('w')"
   ]
  },
  {
   "cell_type": "code",
   "execution_count": null,
   "metadata": {},
   "outputs": [],
   "source": []
  },
  {
   "cell_type": "code",
   "execution_count": null,
   "metadata": {},
   "outputs": [],
   "source": []
  }
 ],
 "metadata": {
  "kernelspec": {
   "display_name": "Python [default]",
   "language": "python",
   "name": "python3"
  },
  "language_info": {
   "codemirror_mode": {
    "name": "ipython",
    "version": 3
   },
   "file_extension": ".py",
   "mimetype": "text/x-python",
   "name": "python",
   "nbconvert_exporter": "python",
   "pygments_lexer": "ipython3",
   "version": "3.6.4"
  }
 },
 "nbformat": 4,
 "nbformat_minor": 2
}