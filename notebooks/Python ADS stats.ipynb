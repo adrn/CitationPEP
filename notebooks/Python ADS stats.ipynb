{
 "cells": [
  {
   "cell_type": "code",
   "execution_count": null,
   "metadata": {},
   "outputs": [],
   "source": [
    "import datetime\n",
    "import itertools\n",
    "from os import path\n",
    "import time\n",
    "\n",
    "import ads\n",
    "import matplotlib.pyplot as plt\n",
    "%matplotlib inline\n",
    "import numpy as np\n",
    "import pandas as pd\n",
    "from tqdm import tqdm"
   ]
  },
  {
   "cell_type": "code",
   "execution_count": null,
   "metadata": {},
   "outputs": [],
   "source": [
    "# Python was created: 20 February 1991\n",
    "years = range(1991, 2018+1, 1)\n",
    "months = range(1, 12+1, 1)\n",
    "dates = [(y, m) for y, m in itertools.product(years, months) \n",
    "         if y < 2018 or (y == 2018 and m < 3)][1:] # Feb 1991\n",
    "\n",
    "ndates = len(dates) - 1\n",
    "print('{0} queries to ADS in total'.format(ndates))"
   ]
  },
  {
   "cell_type": "code",
   "execution_count": null,
   "metadata": {
    "collapsed": true
   },
   "outputs": [],
   "source": [
    "def get_df(term, db, dates, overwrite=False, sleep=0.25):\n",
    "    cache_file = '{0}_{1}.csv'.format(term, db)\n",
    "    ndates = len(dates)-1\n",
    "    q = 'full:\"{term:s}\"  pubdate:[{y1:d}-{m1:02d}-01 TO {y2:d}-{m2:02d}-01] database:\"{db:s}\"'\n",
    "    \n",
    "    if not path.exists(cache_file) or overwrite:\n",
    "        df = pd.DataFrame({'date': np.full(ndates, datetime.date(1984, 1, 1)),\n",
    "                           'count': np.full(ndates, -1)})\n",
    "        df.to_csv(cache_file, index=False)\n",
    "        \n",
    "    df = pd.read_csv(cache_file)\n",
    "    d = df.to_dict()\n",
    "    \n",
    "    search = None\n",
    "    for i, (y1, m1), (y2, m2) in tqdm(zip(range(ndates), dates[:-1], dates[1:]), \n",
    "                                      total=ndates):\n",
    "        \n",
    "        if d['count'][i] >= 0:\n",
    "            continue\n",
    "        \n",
    "        search = ads.SearchQuery(q=q.format(y1=y1, y2=y2, m1=m1, m2=m2,\n",
    "                                            term=term, db=db), \n",
    "                                 rows=1000)\n",
    "        d['count'][i] = len(list(search))\n",
    "        d['date'][i] = datetime.date(y1, m1, 1)\n",
    "\n",
    "        time.sleep(sleep)\n",
    "    \n",
    "    if search is not None and search.response is not None:\n",
    "        nremain = search.response.get_ratelimits()[\"remaining\"]\n",
    "        print('{0} queries remaining'.format(nremain))\n",
    "    \n",
    "    df = pd.DataFrame(d)\n",
    "    df.to_csv(cache_file, index=False)\n",
    "    df['date'] = pd.to_datetime(df['date'])\n",
    "    \n",
    "    return df"
   ]
  },
  {
   "cell_type": "code",
   "execution_count": null,
   "metadata": {},
   "outputs": [],
   "source": [
    "py_astro = get_df('python', 'astronomy', dates, sleep=0.1)"
   ]
  },
  {
   "cell_type": "code",
   "execution_count": null,
   "metadata": {},
   "outputs": [],
   "source": [
    "py_phys = get_df('python', 'physics', dates, sleep=0.1)"
   ]
  },
  {
   "cell_type": "code",
   "execution_count": null,
   "metadata": {},
   "outputs": [],
   "source": [
    "idl_astro = get_df('idl', 'astronomy', dates, sleep=0.1)"
   ]
  },
  {
   "cell_type": "code",
   "execution_count": null,
   "metadata": {},
   "outputs": [],
   "source": [
    "matlab_astro = get_df('matlab', 'astronomy', dates, sleep=0.1)"
   ]
  },
  {
   "cell_type": "code",
   "execution_count": null,
   "metadata": {},
   "outputs": [],
   "source": [
    "fortran_astro = get_df('fortran', 'astronomy', dates, sleep=0.1)"
   ]
  },
  {
   "cell_type": "code",
   "execution_count": null,
   "metadata": {},
   "outputs": [],
   "source": [
    "astropy = get_df('astropy', 'astronomy', dates[250:], # only post-2012\n",
    "                 sleep=0.1) "
   ]
  },
  {
   "cell_type": "code",
   "execution_count": null,
   "metadata": {},
   "outputs": [],
   "source": [
    "mcmc_astro = get_df('mcmc', 'astronomy', dates, sleep=0.1)"
   ]
  },
  {
   "cell_type": "code",
   "execution_count": null,
   "metadata": {},
   "outputs": [],
   "source": [
    "emcee_astro = get_df('emcee', 'astronomy', dates, sleep=0.1)"
   ]
  },
  {
   "cell_type": "code",
   "execution_count": null,
   "metadata": {},
   "outputs": [],
   "source": [
    "fig, ax = plt.subplots(1, 1, figsize=(8, 6))\n",
    "\n",
    "ax.plot(mcmc_astro['date'], mcmc_astro['count'], \n",
    "        marker='', drawstyle='steps-mid', color='#333333', lw=1,\n",
    "        label='\"MCMC\"')\n",
    "\n",
    "ax.plot(emcee_astro['date'], emcee_astro['count'], \n",
    "        marker='', drawstyle='steps-mid', color='#888888', lw=2,\n",
    "        label='\"emcee\"')\n",
    "    \n",
    "ax.set_xlim(datetime.date(2011,1,1),\n",
    "            datetime.date(2018,2,1))\n",
    "\n",
    "ax.legend(loc='upper left', fontsize=16, framealpha=1)\n",
    "\n",
    "ax.set_xlabel('time')\n",
    "ax.set_ylabel('mentions per month')\n",
    "fig.suptitle('Source: ADS', y=0.02, x=0.99, fontsize=14, \n",
    "             fontstyle='italic', ha='right')\n",
    "\n",
    "ax.set_title('mentions in the astronomical literature')\n",
    "\n",
    "fig.set_facecolor('w')\n",
    "fig.tight_layout()"
   ]
  },
  {
   "cell_type": "code",
   "execution_count": null,
   "metadata": {},
   "outputs": [],
   "source": [
    "dfs = [py_astro, astropy, idl_astro, matlab_astro]\n",
    "labels = ['\"python\"', '\"astropy\"', '\"IDL\"', '\"Matlab\"']\n",
    "styles = [dict(lw=2), dict(color='tab:orange', lw=2), \n",
    "          dict(color='tab:red', alpha=0.5), dict(color='tab:green', alpha=0.5)]\n",
    "\n",
    "fig, ax = plt.subplots(1, 1, figsize=(8, 6))\n",
    "\n",
    "for df, label, style in zip(dfs, labels, styles):\n",
    "    grouped = df.groupby(df['date'].map(lambda t: t.year)).sum()\n",
    "    ax.plot(grouped.index, grouped['count'], marker='', #drawstyle='steps-mid',\n",
    "            label=label, **style)\n",
    "\n",
    "ax.legend(loc='upper left', fontsize=14, framealpha=1)\n",
    "\n",
    "ax.set_xlim(1992, 2017)\n",
    "ax.xaxis.set_ticks(np.arange(1993, 2017+1, 4))\n",
    "\n",
    "ax.set_xlabel('time')\n",
    "ax.set_ylabel('mentions per year')\n",
    "fig.suptitle('Source: ADS', y=0.02, x=0.99, fontsize=14, \n",
    "             fontstyle='italic', ha='right')\n",
    "fig.set_facecolor('w')\n",
    "\n",
    "ax.set_title('mentions in the astronomical literature')\n",
    "\n",
    "fig.tight_layout()"
   ]
  },
  {
   "cell_type": "code",
   "execution_count": null,
   "metadata": {
    "collapsed": true
   },
   "outputs": [],
   "source": []
  },
  {
   "cell_type": "code",
   "execution_count": null,
   "metadata": {},
   "outputs": [],
   "source": [
    "base_style = dict(drawstyle='steps-pre', marker='')\n",
    "\n",
    "fig, ax = plt.subplots(1, 1, figsize=(12, 6))\n",
    "\n",
    "ax.plot(py_astro['date'], py_astro['count'], \n",
    "        color='k', label='\"python\" (astronomy)', alpha=1, zorder=100,\n",
    "        **base_style)\n",
    "ax.plot(py_phys['date'], py_phys['count'], \n",
    "        color='tab:blue', label='\"python\" (physics)', alpha=0.5,\n",
    "        **base_style)\n",
    "\n",
    "ax.plot(astropy['date'], astropy['count'], \n",
    "        color='tab:orange', label='\"astropy\"',\n",
    "        **base_style)\n",
    "\n",
    "ax.plot(idl_astro['date'], idl_astro['count'], \n",
    "        color='tab:red', label='\"IDL\"', alpha=0.5,\n",
    "        **base_style)\n",
    "\n",
    "ax.legend(loc='upper left', fontsize=18, framealpha=1)\n",
    "    \n",
    "# ax.set_yscale('log')\n",
    "\n",
    "ax.xaxis.set_ticks([datetime.date(x, 1, 1) for x in range(1991, 2018+1, 2)]);\n",
    "ax.set_xlim(datetime.date(1991,1,1), \n",
    "            datetime.date(2018,3,1))\n",
    "\n",
    "ax.set_xlabel('time')\n",
    "ax.set_ylabel('mentions per month')\n",
    "ax.set_title('Source: ADS', fontsize=14)\n",
    "fig.set_facecolor('w')"
   ]
  },
  {
   "cell_type": "code",
   "execution_count": null,
   "metadata": {
    "collapsed": true
   },
   "outputs": [],
   "source": []
  },
  {
   "cell_type": "code",
   "execution_count": null,
   "metadata": {
    "collapsed": true
   },
   "outputs": [],
   "source": []
  },
  {
   "cell_type": "code",
   "execution_count": null,
   "metadata": {
    "collapsed": true
   },
   "outputs": [],
   "source": []
  },
  {
   "cell_type": "markdown",
   "metadata": {},
   "source": [
    "Dates of all ADASS and \"SPIE Instrumentation\" conferences I could find."
   ]
  },
  {
   "cell_type": "code",
   "execution_count": null,
   "metadata": {
    "collapsed": true
   },
   "outputs": [],
   "source": [
    "adass = [(1991, 11, 6), (1992, 11, 2), (1993, 10, 13), (1994, 9, 26), \n",
    "         (1995, 10, 22), (1996, 9, 22), (1997, 9, 14), (1998, 11, 1), (1999, 10, 3),\n",
    "         (2000, 11, 12), (2001, 9, 30), (2002, 10, 13), (2003, 10, 12),\n",
    "         (2004, 10, 24), (2005, 10, 2), (2006, 10, 15), (2007, 9, 23),\n",
    "         (2008, 11, 2), (2009, 10, 4), (2010, 11, 7), (2011, 11, 6),\n",
    "         (2012, 11, 4), (2013, 9, 29), (2014, 10, 5), (2015, 10, 25),\n",
    "         (2016, 10, 16), (2017, 10, 22)]\n",
    "\n",
    "spie = [(2012, 8, 1), (2014, 6, 1), (2016, 6, 1)]"
   ]
  },
  {
   "cell_type": "code",
   "execution_count": null,
   "metadata": {},
   "outputs": [],
   "source": [
    "fig, ax = plt.subplots(1, 1, figsize=(12, 6))\n",
    "\n",
    "ax.plot(py_astro['date'], py_astro['count'], \n",
    "        drawstyle='steps-pre', marker='', color='#333333')\n",
    "\n",
    "for i, stuff in enumerate(adass):\n",
    "    kw = dict()\n",
    "    if i == 0:\n",
    "        kw = dict(label='ADASS')\n",
    "    ax.axvline(datetime.date(*stuff), linestyle='-', marker='', \n",
    "               zorder=-100, color='tab:blue', alpha=0.35, **kw)\n",
    "    \n",
    "for i, stuff in enumerate(spie):\n",
    "    kw = dict()\n",
    "    if i == 0:\n",
    "        kw = dict(label='SPIE')\n",
    "    ax.axvline(datetime.date(*stuff), linestyle='-', marker='',\n",
    "               zorder=-100, color='tab:orange', alpha=0.35, **kw)\n",
    "\n",
    "ax.legend(loc='upper left', fontsize=18, framealpha=1)\n",
    "    \n",
    "ax.set_yscale('log')\n",
    "\n",
    "ax.xaxis.set_ticks([datetime.date(x, 1, 1) for x in range(1991, 2018+1, 2)]);\n",
    "ax.set_xlim(datetime.date(1991,1,1), \n",
    "            datetime.date(2018,3,1))\n",
    "\n",
    "ax.set_xlabel('time')\n",
    "ax.set_ylabel('Python mentions per month')\n",
    "ax.set_title('Source: ADS', fontsize=14)\n",
    "fig.set_facecolor('w')"
   ]
  },
  {
   "cell_type": "code",
   "execution_count": null,
   "metadata": {
    "collapsed": true
   },
   "outputs": [],
   "source": []
  }
 ],
 "metadata": {
  "kernelspec": {
   "display_name": "Python [default]",
   "language": "python",
   "name": "python3"
  },
  "language_info": {
   "codemirror_mode": {
    "name": "ipython",
    "version": 3
   },
   "file_extension": ".py",
   "mimetype": "text/x-python",
   "name": "python",
   "nbconvert_exporter": "python",
   "pygments_lexer": "ipython3",
   "version": "3.6.1"
  }
 },
 "nbformat": 4,
 "nbformat_minor": 2
}